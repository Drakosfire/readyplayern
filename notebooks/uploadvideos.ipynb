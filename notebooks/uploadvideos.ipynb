{
 "cells": [
  {
   "cell_type": "code",
   "execution_count": 2,
   "metadata": {},
   "outputs": [],
   "source": [
    "from twelvelabs import TwelveLabs\n",
    "import requests\n",
    "import os"
   ]
  },
  {
   "cell_type": "code",
   "execution_count": 6,
   "metadata": {},
   "outputs": [
    {
     "name": "stdout",
     "output_type": "stream",
     "text": [
      "{\"code\":\"video_file_broken\",\"message\":\"Cannot read video file. Please check the video file is valid and try again.\"}\n",
      "\n"
     ]
    }
   ],
   "source": [
    "# Get the API key from environment variable\n",
    "api_key = os.getenv(\"TL_API_KEY\")\n",
    "\n",
    "video_link = \"https://www.youtube.com/watch?v=CQvLNDDV3_Y\"\n",
    "\n",
    "if not api_key:\n",
    "    raise ValueError(\"TL_API_KEY environment variable is not set\")\n",
    "\n",
    "url = \"https://api.twelvelabs.io/v1.2/embed/tasks\"\n",
    "\n",
    "payload = f\"\"\"-----011000010111000001101001\n",
    "Content-Disposition: form-data; name=\"engine_name\"\n",
    "\n",
    "Marengo-retrieval-2.6\n",
    "-----011000010111000001101001\n",
    "Content-Disposition: form-data; name=\"video_embedding_scope\"\n",
    "\n",
    "clip\n",
    "-----011000010111000001101001\n",
    "Content-Disposition: form-data; name=\"video_url\"\n",
    "\n",
    "{video_link}\n",
    "-----011000010111000001101001--\"\"\"\n",
    "\n",
    "headers = {\n",
    "    \"accept\": \"application/json\",\n",
    "    \"Content-Type\": \"multipart/form-data; boundary=---011000010111000001101001\",\n",
    "    \"X-Api-Key\": api_key\n",
    "}\n",
    "\n",
    "response = requests.post(url, data=payload, headers=headers)\n",
    "\n",
    "print(response.text)"
   ]
  },
  {
   "cell_type": "code",
   "execution_count": 1,
   "metadata": {},
   "outputs": [
    {
     "ename": "ModuleNotFoundError",
     "evalue": "No module named 'pytube'",
     "output_type": "error",
     "traceback": [
      "\u001b[1;31m---------------------------------------------------------------------------\u001b[0m",
      "\u001b[1;31mModuleNotFoundError\u001b[0m                       Traceback (most recent call last)",
      "Cell \u001b[1;32mIn[1], line 3\u001b[0m\n\u001b[0;32m      1\u001b[0m \u001b[38;5;28;01mimport\u001b[39;00m \u001b[38;5;21;01mos\u001b[39;00m\n\u001b[0;32m      2\u001b[0m \u001b[38;5;28;01mimport\u001b[39;00m \u001b[38;5;21;01mrequests\u001b[39;00m\n\u001b[1;32m----> 3\u001b[0m \u001b[38;5;28;01mimport\u001b[39;00m \u001b[38;5;21;01mpytube\u001b[39;00m\n\u001b[0;32m      5\u001b[0m \u001b[38;5;66;03m# Get the API key from environment variable\u001b[39;00m\n\u001b[0;32m      6\u001b[0m api_key \u001b[38;5;241m=\u001b[39m os\u001b[38;5;241m.\u001b[39mgetenv(\u001b[38;5;124m\"\u001b[39m\u001b[38;5;124mTL_API_KEY\u001b[39m\u001b[38;5;124m\"\u001b[39m)\n",
      "\u001b[1;31mModuleNotFoundError\u001b[0m: No module named 'pytube'"
     ]
    }
   ],
   "source": [
    "import os\n",
    "import requests\n",
    "import pytube\n",
    "\n",
    "# Get the API key from environment variable\n",
    "api_key = os.getenv(\"TL_API_KEY\")\n",
    "\n",
    "video_link = \"https://www.youtube.com/watch?v=CQvLNDDV3_Y\"\n",
    "\n",
    "if not api_key:\n",
    "    raise ValueError(\"TL_API_KEY environment variable is not set\")\n",
    "\n",
    "# Download YouTube video\n",
    "yt = YouTube(video_link)\n",
    "stream = yt.streams.filter(progressive=True, file_extension='mp4').order_by('resolution').desc().first()\n",
    "\n",
    "# Create a temporary file\n",
    "with tempfile.NamedTemporaryFile(suffix='.mp4', delete=False) as temp_file:\n",
    "    temp_filename = temp_file.name\n",
    "    stream.download(output_path=os.path.dirname(temp_filename), filename=os.path.basename(temp_filename))\n",
    "\n",
    "url = \"https://api.twelvelabs.io/v1.2/embed/tasks\"\n",
    "\n",
    "# Prepare the multipart form data\n",
    "with open(temp_filename, 'rb') as video_file:\n",
    "    files = {\n",
    "        'video_file': ('video.mp4', video_file, 'video/mp4'),\n",
    "        'engine_name': (None, 'Marengo-retrieval-2.6'),\n",
    "        'video_embedding_scope': (None, 'clip')\n",
    "    }\n",
    "\n",
    "    headers = {\n",
    "        \"accept\": \"application/json\",\n",
    "        \"X-Api-Key\": api_key\n",
    "    }\n",
    "\n",
    "    response = requests.post(url, files=files, headers=headers)\n",
    "\n",
    "print(response.text)\n",
    "\n",
    "# Clean up the temporary file\n",
    "os.unlink(temp_filename)"
   ]
  },
  {
   "cell_type": "code",
   "execution_count": 13,
   "metadata": {},
   "outputs": [
    {
     "name": "stdout",
     "output_type": "stream",
     "text": [
      "c:\\Users\\cbhir\\AppData\\Local\\pypoetry\\Cache\\virtualenvs\\ready-player-n-L6wJPrG1-py3.11\\Scripts\\python.exe\n"
     ]
    }
   ],
   "source": [
    "import sys\n",
    "print(sys.executable)"
   ]
  }
 ],
 "metadata": {
  "kernelspec": {
   "display_name": "ready-player-n-L6wJPrG1-py3.11",
   "language": "python",
   "name": "python3"
  },
  "language_info": {
   "codemirror_mode": {
    "name": "ipython",
    "version": 3
   },
   "file_extension": ".py",
   "mimetype": "text/x-python",
   "name": "python",
   "nbconvert_exporter": "python",
   "pygments_lexer": "ipython3",
   "version": "3.11.4"
  }
 },
 "nbformat": 4,
 "nbformat_minor": 2
}
